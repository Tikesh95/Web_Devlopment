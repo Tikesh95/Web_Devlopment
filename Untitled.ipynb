{
 "cells": [
  {
   "cell_type": "code",
   "execution_count": null,
   "id": "3ae45d0e-676a-4e9e-9a9f-d1333c85d41a",
   "metadata": {},
   "outputs": [],
   "source": [
    "1. Explain the Table and its properties."
   ]
  },
  {
   "cell_type": "code",
   "execution_count": null,
   "id": "232ad5d7-792a-4dfa-8bec-176eb8cc7c42",
   "metadata": {},
   "outputs": [],
   "source": [
    "Ans. In HTML, a table is used to display data in a structured format of rows and columns. Tables are defined using the <table> element, and within it, various other elements are used to define the structure and content of the table."
   ]
  },
  {
   "cell_type": "code",
   "execution_count": null,
   "id": "b4ce0a5b-3ba9-4568-bb59-23a9e4c05825",
   "metadata": {},
   "outputs": [],
   "source": [
    "<table>\n",
    "  <thead>\n",
    "    <tr>\n",
    "      <th>Header 1</th>\n",
    "      <th>Header 2</th>\n",
    "      <th>Header 3</th>\n",
    "    </tr>\n",
    "  </thead>\n",
    "  <tbody>\n",
    "    <tr>\n",
    "      <td>Data 1</td>\n",
    "      <td>Data 2</td>\n",
    "      <td>Data 3</td>\n",
    "    </tr>\n",
    "    <tr>\n",
    "      <td>Data 4</td>\n",
    "      <td>Data 5</td>\n",
    "      <td>Data 6</td>\n",
    "    </tr>\n",
    "  </tbody>\n",
    "  <tfoot>\n",
    "    <tr>\n",
    "      <td>Footer 1</td>\n",
    "      <td>Footer 2</td>\n",
    "      <td>Footer 3</td>\n",
    "    </tr>\n",
    "  </tfoot>\n",
    "</table>\n"
   ]
  },
  {
   "cell_type": "code",
   "execution_count": null,
   "id": "f33f6883-b7cc-4600-bd4a-c659bf7703c8",
   "metadata": {},
   "outputs": [],
   "source": [
    "2. 2. Explain all Media elements and how they work."
   ]
  },
  {
   "cell_type": "code",
   "execution_count": null,
   "id": "47d61201-e17b-4867-a88c-7472bcb53bb9",
   "metadata": {},
   "outputs": [],
   "source": [
    "Ans. HTML provides several elements for embedding media, such as images, audio, and video, directly into web pages. These elements allow for the integration of various types of media content to enhance the user experience.\n",
    "\n",
    "1. <img>: Embedding Images\n",
    "The <img> element is used to embed images in HTML.\n",
    "\n",
    "Attributes:\n",
    "\n",
    "src: Specifies the path to the image file (can be a relative path or an absolute URL).\n",
    "alt: Provides alternative text if the image cannot be displayed.\n",
    "width and height: Define the size of the image in pixels.\n",
    "title: Adds a tooltip when the user hovers over the image.\n",
    "\n",
    "\n",
    "2. <audio>: Embedding Audio\n",
    "The <audio> element is used to embed audio files.\n",
    "\n",
    "Attributes:\n",
    "\n",
    "src: Specifies the path to the audio file.\n",
    "controls: Adds audio controls like play, pause, and volume.\n",
    "autoplay: Automatically starts playing the audio when the page loads.\n",
    "loop: Replays the audio continuously.\n",
    "muted: Mutes the audio.\n",
    "preload: Specifies if and how the audio file should be loaded when the page loads (auto, metadata, none).\n",
    "\n",
    "3. <video>: Embedding Video\n",
    "The <video> element is used to embed video files.\n",
    "\n",
    "Attributes:\n",
    "\n",
    "src: Specifies the path to the video file.\n",
    "controls: Adds video controls like play, pause, and volume.\n",
    "autoplay: Automatically starts playing the video when the page loads.\n",
    "loop: Replays the video continuously.\n",
    "muted: Mutes the video.\n",
    "preload: Specifies if and how the video file should be loaded when the page loads.\n",
    "poster: Defines an image to be shown while the video is downloading or until the user hits the play button.\n",
    "width and height: Define the size of the video player."
   ]
  },
  {
   "cell_type": "code",
   "execution_count": null,
   "id": "2e1461a3-48a7-4b21-a3be-87ea01799481",
   "metadata": {},
   "outputs": [],
   "source": [
    "3. What is get and Post in Form in HTML?"
   ]
  },
  {
   "cell_type": "code",
   "execution_count": null,
   "id": "465a6b67-bf3c-47be-baf1-ecfbe7a907ee",
   "metadata": {},
   "outputs": [],
   "source": [
    "Ans. In HTML, forms are used to collect user input and send it to a server for processing. The two most common HTTP methods used for submitting form data are GET and POST. These methods determine how the form data is sent to the server and how the server handles that data.\n",
    "\n",
    "1. GET Method\n",
    "The GET method appends form data to the URL specified in the form's action attribute. This data is sent as part of the URL query string, which appears after a ? in the URL.\n",
    "\n",
    "Characteristics of the GET Method:\n",
    "Data in the URL: The form data is visible in the browser’s address bar, appended to the URL as key-value pairs.\n",
    "Limited Data Size: Because the data is sent in the URL, there is a size limitation (typically around 2048 characters).\n",
    "Cached and Bookmarkable: The URL with the form data can be cached by the browser and can be bookmarked, which is useful for retrieving the same results later.\n",
    "Not Secure: Since data is visible in the URL, it is not suitable for sensitive information like passwords.\n",
    "Idempotent: Repeated requests with the same data will result in the same outcome without changing the state of the server.\n",
    "\n",
    "2. POST Method\n",
    "The POST method sends form data in the body of the HTTP request, rather than appending it to the URL. This method is more secure and flexible, making it suitable for a wide range of data submissions.\n",
    "\n",
    "Characteristics of the POST Method:\n",
    "Data in the Body: The form data is included in the request body, not in the URL, making it invisible in the browser’s address bar.\n",
    "No Data Size Limitation: There is no practical limit on the size of the form data that can be sent, making it suitable for sending large amounts of data.\n",
    "More Secure: Although not inherently secure (as it can still be intercepted), the data is not exposed in the URL, making it safer for sensitive information when combined with HTTPS.\n",
    "Not Idempotent: Multiple submissions of the same form data can result in different outcomes, such as creating multiple records in a database.\n",
    "Used for Sensitive Data: POST is commonly used for forms that involve sensitive or confidential information, such as login credentials or payment information.\n"
   ]
  },
  {
   "cell_type": "code",
   "execution_count": null,
   "id": "fa62db08-5ff0-44ea-98ad-34641a0697c1",
   "metadata": {},
   "outputs": [],
   "source": [
    "4. List all the input types we have in forms in HTML."
   ]
  },
  {
   "cell_type": "code",
   "execution_count": null,
   "id": "2bd18311-3faf-4600-a458-a5eaf43d9ce6",
   "metadata": {},
   "outputs": [],
   "source": [
    "Ans. HTML forms support a variety of input types, each designed to capture specific types of data from the user. Here's a list of all the common input types available in HTML forms:\n",
    "\n",
    "Text-Based Input Types\n",
    "1.\n",
    "text: A single-line text input.\n",
    "<input type=\"text\" name=\"username\">\n",
    "\n",
    "2.\n",
    "password: A single-line text input where the characters are obscured.\n",
    "<input type=\"password\" name=\"password\">\n",
    "\n",
    "\n",
    "3.\n",
    "email: A single-line text input for entering an email address, with basic validation.\n",
    "<input type=\"email\" name=\"email\">\n",
    "\n",
    "4.\n",
    "url: A single-line text input for entering a URL, with basic validation.\n",
    "<input type=\"url\" name=\"website\">\n",
    "\n",
    "5.\n",
    "tel: A single-line text input for entering a telephone number\n",
    "<input type=\"tel\" name=\"phone\">\n",
    "\n"
   ]
  }
 ],
 "metadata": {
  "kernelspec": {
   "display_name": "Python 3 (ipykernel)",
   "language": "python",
   "name": "python3"
  },
  "language_info": {
   "codemirror_mode": {
    "name": "ipython",
    "version": 3
   },
   "file_extension": ".py",
   "mimetype": "text/x-python",
   "name": "python",
   "nbconvert_exporter": "python",
   "pygments_lexer": "ipython3",
   "version": "3.10.8"
  }
 },
 "nbformat": 4,
 "nbformat_minor": 5
}
