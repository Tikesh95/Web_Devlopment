{
 "cells": [
  {
   "cell_type": "code",
   "execution_count": null,
   "id": "b027dea1-eda6-49f8-a0d7-21cc2d90f2a0",
   "metadata": {},
   "outputs": [],
   "source": [
    "1. Why CSS selectors are used in HTML?"
   ]
  },
  {
   "cell_type": "code",
   "execution_count": null,
   "id": "fb0dbc2d-7c0a-4715-b6ae-e5cfc95e821e",
   "metadata": {},
   "outputs": [],
   "source": [
    "Ans.CSS selectors are used in HTML to apply specific styles to elements based on their attributes, relationships, or position within the document. They play a crucial role in controlling the appearance and layout of a web page by allowing developers to target HTML elements precisely and apply styling rules accordingly. Here are some key reasons why CSS selectors are used:\n",
    "1. Targeting Elements\n",
    "CSS selectors allow you to target specific elements or groups of elements on a web page. This enables you to apply styles selectively rather than globally, which helps in creating a more organized and consistent design.\n",
    "2. Enhancing Styling Precision\n",
    "Selectors provide a way to apply styles to elements based on their type, class, ID, attributes, and hierarchical position, giving you precise control over how elements are styled.\n",
    "3. Applying Styles to Specific Groups\n",
    "Selectors can be used to style specific groups of elements, such as those that share a common class or are part of a certain section of the page. This allows for consistent styling across multiple elements without redundancy."
   ]
  },
  {
   "cell_type": "code",
   "execution_count": null,
   "id": "7b03ce41-d836-41d3-becb-8f4a6a4f3741",
   "metadata": {},
   "outputs": [],
   "source": [
    "2. What are  the different types of Selectors in CSS?"
   ]
  },
  {
   "cell_type": "code",
   "execution_count": null,
   "id": "b4ac99b5-4546-4dcb-bf6d-de49308c26e6",
   "metadata": {},
   "outputs": [],
   "source": [
    "Ans.CSS selectors are used to target HTML elements and apply styles to them. There are several types of selectors, each serving different purposes and allowing for varying levels of specificity. Here’s a comprehensive overview of the different types of CSS selectors:\n",
    "\n",
    "1. Basic Selectors\n",
    "Type Selector\n",
    "\n",
    "Targets all elements of a given type.\n",
    "Example: p { color: blue; } – Styles all <p> elements.\n",
    "Class Selector\n",
    "\n",
    "Targets elements with a specific class attribute. Prefixed with a dot (.).\n",
    "Example: .button { background-color: green; } – Styles all elements with the class button.\n",
    "ID Selector\n",
    "\n",
    "Targets an element with a specific ID attribute. Prefixed with a hash (#). IDs should be unique within a page.\n",
    "Example: #header { background-color: gray; } – Styles the element with the ID header.\n",
    "Universal Selector\n",
    "\n",
    "Targets all elements on the page. Represented by an asterisk (*).\n",
    "Example: * { margin: 0; padding: 0; } – Resets margin and padding for all elements.\n",
    "2. Group Selectors\n",
    "Group Selector\n",
    "Targets multiple elements with the same style by separating selectors with commas.\n",
    "Example: h1, h2, h3 { font-family: Arial; } – Applies the same style to <h1>, <h2>, and <h3> elements.\n",
    "3. Attribute Selectors\n",
    "Attribute Selector\n",
    "\n",
    "Targets elements based on the presence or value of attributes.\n",
    "Examples:\n",
    "[type=\"text\"] { border: 1px solid #ccc; } – Targets <input> elements with the type=\"text\".\n",
    "[href^=\"https\"] { color: green; } – Targets links (<a>) with href attributes that start with \"https\".\n",
    "Attribute Selector Variants\n",
    "\n",
    "[attr|=\"value\"] – Targets elements with an attribute value starting with value followed by a hyphen.\n",
    "[attr~=\"value\"] – Targets elements with an attribute containing a space-separated list where value is one of the values.\n",
    "[attr$=\"value\"] – Targets elements with an attribute value ending in value.\n",
    "[attr*=\"value\"] – Targets elements with an attribute value containing value.\n",
    "4. Pseudo-Classes\n",
    "Pseudo-Class Selector\n",
    "Targets elements in a specific state.\n",
    "Examples:\n",
    ":hover – Applies styles when an element is hovered over.\n",
    ":focus – Applies styles when an element is in focus (e.g., an input field).\n",
    ":nth-child(n) – Targets the nth child of its parent.\n",
    ":first-child – Targets the first child of its parent.\n",
    ":last-child – Targets the last child of its parent.\n",
    ":not(selector) – Targets elements that do not match the specified selector.\n",
    "5. Pseudo-Elements\n",
    "Pseudo-Element Selector\n",
    "Targets specific parts of an element.\n",
    "Examples:\n",
    "::before – Inserts content before an element’s content.\n",
    "::after – Inserts content after an element’s content.\n",
    "::first-line – Styles the first line of an element’s text.\n",
    "::first-letter – Styles the first letter of an element’s text."
   ]
  },
  {
   "cell_type": "code",
   "execution_count": null,
   "id": "d44960a8-0720-4374-b836-bc6efb7a5e81",
   "metadata": {},
   "outputs": [],
   "source": [
    "3. How do you include external fonts and apply them."
   ]
  },
  {
   "cell_type": "code",
   "execution_count": null,
   "id": "17ecb88a-1437-4246-a25a-d66fb69d9033",
   "metadata": {},
   "outputs": [],
   "source": [
    "Ans.<!DOCTYPE html>\n",
    "<html lang=\"en\">\n",
    "<head>\n",
    "    <meta charset=\"UTF-8\">\n",
    "    <meta name=\"viewport\" content=\"width=device-width, initial-scale=1.0\">\n",
    "    <title>Google Fonts Example</title>\n",
    "    <link href=\"https://fonts.googleapis.com/css2?family=Roboto:wght@400;700&display=swap\" rel=\"stylesheet\">\n",
    "    <style>\n",
    "        body {\n",
    "            font-family: 'Roboto', sans-serif;\n",
    "        }\n",
    "    </style>\n",
    "</head>\n",
    "<body>\n",
    "    <h1>Hello, World!</h1>\n",
    "    <p>This is a paragraph using the Roboto font.</p>\n",
    "</body>\n",
    "</html>\n"
   ]
  }
 ],
 "metadata": {
  "kernelspec": {
   "display_name": "Python 3 (ipykernel)",
   "language": "python",
   "name": "python3"
  },
  "language_info": {
   "codemirror_mode": {
    "name": "ipython",
    "version": 3
   },
   "file_extension": ".py",
   "mimetype": "text/x-python",
   "name": "python",
   "nbconvert_exporter": "python",
   "pygments_lexer": "ipython3",
   "version": "3.10.8"
  }
 },
 "nbformat": 4,
 "nbformat_minor": 5
}
