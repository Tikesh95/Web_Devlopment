{
 "cells": [
  {
   "cell_type": "code",
   "execution_count": null,
   "id": "8d8493d5-cc25-4e49-b732-7fcf810532c4",
   "metadata": {},
   "outputs": [],
   "source": [
    "1.\" What are the new things introduced in HML5!"
   ]
  },
  {
   "cell_type": "code",
   "execution_count": null,
   "id": "b900b4aa-8003-4110-8528-b1384a1fda69",
   "metadata": {},
   "outputs": [],
   "source": [
    "Ans.HTML5 introduced a wide range of new features and improvements over the previous version, HTML4, aimed at modernizing web development and enhancing the user experience. Here’s a summary of the key new features introduced in HTML5:\n",
    "\n",
    "1. New Semantic Elements\n",
    "HTML5 introduced several new elements that provide more meaningful structure to web documents, improving accessibility, search engine optimization (SEO), and code readability.\n",
    "\n",
    "<header>: Represents a header section for a document or a section, often containing headings, logos, or navigational elements.\n",
    "<footer>: Represents a footer section for a document or a section, typically containing copyright information, links to related documents, etc.\n",
    "<nav>: Represents a section of a page that links to other pages or to parts within the page—primarily used for navigation links.\n",
    "<article>: Represents a self-contained piece of content, such as a blog post, news article, or forum post.\n",
    "<section>: Represents a section of a document, typically with a heading, that groups related content together.\n",
    "<aside>: Represents content that is tangentially related to the content around it, such as sidebars or pull quotes.\n",
    "<main>: Represents the main content of the document, which is unique from content that is repeated across pages (such as sidebars or footers).\n",
    "<figure> and <figcaption>: Used to group images, illustrations, or diagrams with their captions.\n",
    "2. New Form Elements and Input Types\n",
    "HTML5 introduced new input types and attributes to enhance forms, making it easier to collect and validate user data.\n",
    "\n",
    "New Input Types:\n",
    "\n",
    "email: For email addresses.\n",
    "url: For URLs.\n",
    "number: For numeric input.\n",
    "range: For selecting a value within a range (slider).\n",
    "date, month, week, time, datetime-local: For selecting dates and times.\n",
    "color: For selecting a color.\n",
    "search: For search fields.\n",
    "New Attributes:\n",
    "\n",
    "placeholder: Provides a hint to the user of what to enter in the input field.\n",
    "required: Specifies that the input field must be filled out before submitting the form.\n",
    "pattern: Validates the input against a regular expression pattern.\n",
    "autofocus: Automatically focuses the input field when the page loads.\n",
    "autocomplete: Enables or disables autocomplete for form fields.\n",
    "novalidate: Disables form validation when submitting.\n",
    "3. Multimedia Elements\n",
    "HTML5 introduced native support for embedding audio and video content without relying on third-party plugins like Flash.\n",
    "\n",
    "<audio>: Embeds audio content.\n",
    "<video>: Embeds video content.\n",
    "<track>: Adds text tracks, such as subtitles or captions, to <video> or <audio> elements.\n",
    "4. Canvas and SVG\n",
    "HTML5 introduced new ways to draw graphics directly in the browser, enabling rich visual content and interactive features.\n",
    "\n",
    "<canvas>: A drawing surface that allows for dynamic, scriptable rendering of 2D shapes and images.\n",
    "SVG (Scalable Vector Graphics): Supports the use of SVG for creating and embedding vector-based graphics that can scale without losing quality."
   ]
  },
  {
   "cell_type": "code",
   "execution_count": null,
   "id": "120d5613-a74d-402b-84b4-fe06e8e05fdb",
   "metadata": {},
   "outputs": [],
   "source": [
    "2.\" What are seantic tags? Give a couple of Examples\""
   ]
  },
  {
   "cell_type": "code",
   "execution_count": null,
   "id": "bdcd12cc-0594-44ae-a924-6a53b2b1e2e7",
   "metadata": {},
   "outputs": [],
   "source": [
    "Ans.Semantic tags in HTML are elements that not only define the structure of a webpage but also convey the meaning and purpose of the content enclosed within them. Unlike non-semantic tags like <div> and <span>, which do not provide any information about their content, semantic tags clearly describe their intended use, making the HTML document more understandable for both developers and browsers, as well as for search engines and assistive technologies.\n",
    "\n",
    "Examples - \n",
    "<header>\n",
    "  <h1>Welcome to My Website</h1>\n",
    "  <nav>\n",
    "    <ul>\n",
    "      <li><a href=\"#home\">Home</a></li>\n",
    "      <li><a href=\"#about\">About</a></li>\n",
    "      <li><a href=\"#contact\">Contact</a></li>\n",
    "    </ul>\n",
    "  </nav>\n",
    "</header>\n"
   ]
  },
  {
   "cell_type": "code",
   "execution_count": null,
   "id": "0fc3b1d3-a939-4ba1-ad5b-502556f1a98e",
   "metadata": {},
   "outputs": [],
   "source": [
    "3. List some uses of semantic tags."
   ]
  },
  {
   "cell_type": "code",
   "execution_count": null,
   "id": "88916025-3ac6-49db-a7be-bf784253d39d",
   "metadata": {},
   "outputs": [],
   "source": [
    "Ans. Semantic tags are crucial in modern web development due to their various benefits and applications. Here are some key uses of semantic tags:\n",
    "\n",
    "1. Improved Accessibility\n",
    "Screen Readers: Semantic tags help screen readers and other assistive technologies better understand the structure and content of a webpage. For example, a screen reader can easily identify navigation menus (<nav>), headers (<header>), and main content (<main>), making the web more accessible to users with disabilities.\n",
    "ARIA Roles: Although semantic tags inherently convey meaning, they can also be paired with ARIA (Accessible Rich Internet Applications) roles to enhance accessibility further.\n",
    "2. Search Engine Optimization (SEO)\n",
    "Better Indexing: Search engines like Google use semantic tags to understand the content's hierarchy and context better. For example, content within an <article> or <section> tag is treated differently than content inside a generic <div>.\n",
    "Rich Snippets: Semantic tags help search engines generate rich snippets in search results, potentially increasing the webpage's visibility and click-through rate.\n",
    "3. Code Readability and Maintainability\n",
    "Self-Descriptive Code: Semantic tags provide a clear, self-descriptive structure, making it easier for developers to understand and maintain the code. For example, it's immediately clear what a <header>, <footer>, or <aside> represents in the document structure.\n",
    "Team Collaboration: Semantic tags promote a standardized approach, which is especially beneficial in team environments where multiple developers work on the same project.\n",
    "4. Consistent Styling\n",
    "CSS Targeting: Semantic tags allow for more precise and meaningful CSS selectors. For instance, you can style all headers (<header>) or articles (<article>) across your site consistently, rather than relying on classes or IDs.\n",
    "Theming and Layouts: Semantic tags enable the creation of more consistent themes and layouts across a website by clearly defining the roles of different content blocks.\n",
    "5. Future-Proofing\n",
    "Browser Compatibility: As web standards evolve, using semantic tags helps ensure that your website remains compatible with future browser updates. Browsers are continually optimized to better support and interpret semantic HTML, making it a forward-compatible choice.\n",
    "Fallback Content: In cases where older browsers do not support certain semantic tags, developers can use polyfills or fallback content, ensuring that the website remains functional and accessible."
   ]
  }
 ],
 "metadata": {
  "kernelspec": {
   "display_name": "Python 3 (ipykernel)",
   "language": "python",
   "name": "python3"
  },
  "language_info": {
   "codemirror_mode": {
    "name": "ipython",
    "version": 3
   },
   "file_extension": ".py",
   "mimetype": "text/x-python",
   "name": "python",
   "nbconvert_exporter": "python",
   "pygments_lexer": "ipython3",
   "version": "3.10.8"
  }
 },
 "nbformat": 4,
 "nbformat_minor": 5
}
